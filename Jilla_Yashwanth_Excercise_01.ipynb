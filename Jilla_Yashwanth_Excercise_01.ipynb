{
  "cells": [
    {
      "cell_type": "markdown",
      "metadata": {
        "id": "view-in-github"
      },
      "source": [
        "<a href=\"https://colab.research.google.com/github/unt-iialab/INFO5731_Spring2020/blob/master/In_class_exercise/In_class_exercise_01.ipynb\" target=\"_parent\"><img src=\"https://colab.research.google.com/assets/colab-badge.svg\" alt=\"Open In Colab\"/></a>"
      ]
    },
    {
      "cell_type": "markdown",
      "metadata": {
        "id": "DymRJbxDBCnf"
      },
      "source": [
        "# **This first In-class-exercise cover a variety of fundamental concepts in Python and are designed to help individuals improve their coding skills and problem-solving abilities.**\n",
        "\n",
        "The submission is due on 01/31/2024 11:59 PM. This submission is worth 40 points in total.\n"
      ]
    },
    {
      "cell_type": "markdown",
      "source": [
        "(1) Write a Python program that  prompts the user to input the length and width of a rectangle, and then calculates and displays the area of the rectangle.\n",
        "\n",
        "> Indented block\n",
        "\n"
      ],
      "metadata": {
        "id": "FBKvD6O_TY6e"
      }
    },
    {
      "cell_type": "code",
      "source": [
        "# write your answer here\n",
        "# Get user input for length and width\n",
        "length = float(input(\"Enter the length of the rectangle: \"))\n",
        "width = float(input(\"Enter the width of the rectangle: \"))\n",
        "\n",
        "# Calculate the area of the rectangle\n",
        "area = length * width\n",
        "\n",
        "# Display the result\n",
        "print(\"The area of the rectangle is:\", area)\n"
      ],
      "metadata": {
        "id": "cikVKDXdTbzE",
        "colab": {
          "base_uri": "https://localhost:8080/"
        },
        "outputId": "4ce668f4-05c0-4b91-dbee-f3b3c95a908c"
      },
      "execution_count": 2,
      "outputs": [
        {
          "output_type": "stream",
          "name": "stdout",
          "text": [
            "Enter the length of the rectangle: 5\n",
            "Enter the width of the rectangle: 5\n",
            "The area of the rectangle is: 25.0\n"
          ]
        }
      ]
    },
    {
      "cell_type": "markdown",
      "source": [
        "(2) Create a Python program that interactively takes two numerical inputs from the user and swaps their values without utilizing an extra variable."
      ],
      "metadata": {
        "id": "E9RqrlwdTfvl"
      }
    },
    {
      "cell_type": "code",
      "source": [
        "# write your answer here\n",
        "# Get user input for two numerical values\n",
        "num1 = float(input(\"Enter the first numerical value: \"))\n",
        "num2 = float(input(\"Enter the second numerical value: \"))\n",
        "\n",
        "# Display the values before swapping\n",
        "print(\"Before swapping: num1 =\", num1, \"num2 =\", num2)\n",
        "\n",
        "# Swap the values using tuple unpacking\n",
        "num1, num2 = num2, num1\n",
        "\n",
        "# Display the values after swapping\n",
        "print(\"After swapping: num1 =\", num1, \"num2 =\", num2)"
      ],
      "metadata": {
        "id": "4XvRknixTh1g",
        "colab": {
          "base_uri": "https://localhost:8080/"
        },
        "outputId": "42890115-ec2a-40d7-e647-d6d9a1f159c9"
      },
      "execution_count": 3,
      "outputs": [
        {
          "output_type": "stream",
          "name": "stdout",
          "text": [
            "Enter the first numerical value: 6\n",
            "Enter the second numerical value: 6\n",
            "Before swapping: num1 = 6.0 num2 = 6.0\n",
            "After swapping: num1 = 6.0 num2 = 6.0\n"
          ]
        }
      ]
    },
    {
      "cell_type": "markdown",
      "metadata": {
        "id": "03jb4GZsBkBS"
      },
      "source": [
        "(3) Write a Python script to determine and print the length of a user-input string."
      ]
    },
    {
      "cell_type": "code",
      "execution_count": 4,
      "metadata": {
        "id": "YaGLbSHHB8Ej",
        "colab": {
          "base_uri": "https://localhost:8080/"
        },
        "outputId": "45a3aaeb-c32f-4e8f-b2ea-5b89a63e1655"
      },
      "outputs": [
        {
          "output_type": "stream",
          "name": "stdout",
          "text": [
            "Enter a string: 8\n",
            "The length of the entered string is: 1\n"
          ]
        }
      ],
      "source": [
        "# write your answer here\n",
        "print(\"The length of the entered string is:\", len(input(\"Enter a string: \")))"
      ]
    },
    {
      "cell_type": "markdown",
      "metadata": {
        "id": "jJDe71iLB616"
      },
      "source": [
        "(4) Construct a Python program that counts and displays the occurrences of each character in a given string.\n",
        "\n",
        "Sample String: 'openai.ai',\n",
        "\n",
        "Expected Result: {'a': 2, 'i': 2, '.': 1, 'o': 1, 'p': 1, 'e': 1, 'n': 1}"
      ]
    },
    {
      "cell_type": "code",
      "execution_count": 5,
      "metadata": {
        "id": "MtKskTzbCLaU",
        "colab": {
          "base_uri": "https://localhost:8080/"
        },
        "outputId": "4cc0c999-259a-48b0-f238-7849ef6b5cea"
      },
      "outputs": [
        {
          "output_type": "stream",
          "name": "stdout",
          "text": [
            "{'e': 1, 'o': 1, 'p': 1, 'i': 2, '.': 1, 'n': 1, 'a': 2}\n"
          ]
        }
      ],
      "source": [
        "# write your answer here\n",
        "sample_string='openai.ai'\n",
        "print({char: sample_string.count(char) for char in set(sample_string)})"
      ]
    },
    {
      "cell_type": "markdown",
      "metadata": {
        "id": "55W9AMdXCSpV"
      },
      "source": [
        "(5) Design a Python code to calculate the sum of all elements in a user-provided list."
      ]
    },
    {
      "cell_type": "code",
      "execution_count": 6,
      "metadata": {
        "id": "I57NXsauCec2",
        "colab": {
          "base_uri": "https://localhost:8080/"
        },
        "outputId": "a62caca7-405b-4673-df8f-57ba4920799d"
      },
      "outputs": [
        {
          "output_type": "stream",
          "name": "stdout",
          "text": [
            "Enter a list of numbers separated by space: 8\n",
            "Sum of elements: 8.0\n"
          ]
        }
      ],
      "source": [
        "# write your answer here\n",
        "print(\"Sum of elements:\", sum(map(float, input(\"Enter a list of numbers separated by space: \").split())))"
      ]
    },
    {
      "cell_type": "markdown",
      "metadata": {
        "id": "4ulBZ6yhCi9F"
      },
      "source": [
        "(6) Write a Python program that modifies a given string by replacing all occurrences of its first character with '$', excluding the first character itself.\n",
        "\n",
        "\n",
        "Sample String : 'restart‘,\n",
        "\n",
        "Expected Result : 'resta\\$t'"
      ]
    },
    {
      "cell_type": "code",
      "execution_count": 7,
      "metadata": {
        "id": "Fj0XhwbBCw2o",
        "colab": {
          "base_uri": "https://localhost:8080/"
        },
        "outputId": "71bd152b-a7b7-454e-bf47-8215fa6a44ea"
      },
      "outputs": [
        {
          "output_type": "stream",
          "name": "stdout",
          "text": [
            "Enter a string: 9\n",
            "Enter the first character: u\n",
            "Enter the first character: i\n",
            "Modified String: 9\n"
          ]
        }
      ],
      "source": [
        "# write your answer here\n",
        "modified_string = input(\"Enter a string: \").replace(input(\"Enter the first character: \"), '$').replace('$', input(\"Enter the first character: \"), 1)\n",
        "print(\"Modified String:\", modified_string)"
      ]
    },
    {
      "cell_type": "markdown",
      "source": [
        "(7) Write a Python program using a while loop to compute the factorial of a user-supplied number."
      ],
      "metadata": {
        "id": "qVXA3q7ET5JI"
      }
    },
    {
      "cell_type": "code",
      "source": [
        "# write your answer here\n",
        "# Get user input for the number\n",
        "number = int(input(\"Enter a number: \"))\n",
        "\n",
        "# Initialize variables\n",
        "factorial = 1\n",
        "current_number = 1\n",
        "\n",
        "# Calculate factorial using a while loop\n",
        "while current_number <= number:\n",
        "    factorial *= current_number\n",
        "    current_number += 1\n",
        "\n",
        "# Display the result\n",
        "print(\"Factorial of\", number, \"is:\", factorial)"
      ],
      "metadata": {
        "id": "Lbt7R6UkT7BA",
        "colab": {
          "base_uri": "https://localhost:8080/"
        },
        "outputId": "39ed89e8-d3c0-4f73-9ab8-2397070d490a"
      },
      "execution_count": 8,
      "outputs": [
        {
          "output_type": "stream",
          "name": "stdout",
          "text": [
            "Enter a number: 6\n",
            "Factorial of 6 is: 720\n"
          ]
        }
      ]
    },
    {
      "cell_type": "markdown",
      "source": [
        "(8) Create a program that accepts a list of numbers as input and outputs a new list containing only the even numbers."
      ],
      "metadata": {
        "id": "6YfbzXMNT--R"
      }
    },
    {
      "cell_type": "code",
      "source": [
        "# write your answer here\n",
        "print(\"List of even numbers:\", [int(num) for num in input(\"Enter a list of numbers separated by space: \").split() if int(num) % 2 == 0])"
      ],
      "metadata": {
        "id": "54q7wMQPUAKu",
        "colab": {
          "base_uri": "https://localhost:8080/"
        },
        "outputId": "92447e08-cb0e-4f65-d812-6289fb6b050f"
      },
      "execution_count": 10,
      "outputs": [
        {
          "output_type": "stream",
          "name": "stdout",
          "text": [
            "Enter a list of numbers separated by space: 6\n",
            "List of even numbers: [6]\n"
          ]
        }
      ]
    },
    {
      "cell_type": "markdown",
      "metadata": {
        "id": "_bIP7s1MCzue"
      },
      "source": [
        "\n",
        "(9) Design a Python function to check if a number is prime.\n"
      ]
    },
    {
      "cell_type": "code",
      "execution_count": 11,
      "metadata": {
        "id": "w79QilHXD3Mg",
        "colab": {
          "base_uri": "https://localhost:8080/"
        },
        "outputId": "a04e6bca-aa3d-4789-8700-3174b217fad9"
      },
      "outputs": [
        {
          "output_type": "stream",
          "name": "stdout",
          "text": [
            "Enter a number: 7\n",
            "7 is prime\n"
          ]
        }
      ],
      "source": [
        "# write your answer here\n",
        "is_prime = lambda x: x > 1 and all(x % i != 0 for i in range(2, int(x**0.5) + 1))\n",
        "\n",
        "# Get user input for a number\n",
        "user_input = int(input(\"Enter a number: \"))\n",
        "\n",
        "# Check if the entered number is prime using the lambda function\n",
        "print(f\"{user_input} is {'prime' if is_prime(user_input) else 'not prime'}\")"
      ]
    },
    {
      "cell_type": "markdown",
      "metadata": {
        "id": "xCa2bK9aD4Q3"
      },
      "source": [
        "(10) Write a Python program to concatenate following dictionaries to create a new one.\n",
        "\n",
        "Sample Dictionary : dic1={1:10, 2:20}, dic2={3:30, 4:40}, dic3={5:50,6:60},\n",
        "\n",
        "Expected Result : {1: 10, 2: 20, 3: 30, 4: 40, 5: 50, 6: 60}\n"
      ]
    },
    {
      "cell_type": "code",
      "execution_count": 12,
      "metadata": {
        "id": "_z4aLqAbEET1",
        "colab": {
          "base_uri": "https://localhost:8080/"
        },
        "outputId": "d68d36e9-81c9-4a72-80a4-b0ef349de68a"
      },
      "outputs": [
        {
          "output_type": "stream",
          "name": "stdout",
          "text": [
            "Concatenated Dictionary: {1: 10, 2: 20, 3: 30, 4: 40, 5: 50, 6: 60}\n"
          ]
        }
      ],
      "source": [
        "# write your answer here\n",
        "# Sample Dictionaries\n",
        "dic1 = {1: 10, 2: 20}\n",
        "dic2 = {3: 30, 4: 40}\n",
        "dic3 = {5: 50, 6: 60}\n",
        "\n",
        "# Concatenate dictionaries in a single line\n",
        "result_dict = {**dic1, **dic2, **dic3}\n",
        "\n",
        "# Display the result\n",
        "print(\"Concatenated Dictionary:\", result_dict)"
      ]
    },
    {
      "cell_type": "markdown",
      "source": [
        "(11) Design a Python function that takes a tuple of integers as input and returns the largest and smallest elements."
      ],
      "metadata": {
        "id": "bkyZ2xSZUOst"
      }
    },
    {
      "cell_type": "code",
      "source": [
        "# write your answer here\n",
        "# Corrected function definition\n",
        "get_min_max = lambda nums: (min(nums), max(nums))\n",
        "\n",
        "# Example usage\n",
        "input_tuple = (5, 12, 8, 3, 15, 7)\n",
        "min_value, max_value = get_min_max(input_tuple)\n",
        "\n",
        "print(\"Smallest element:\", min_value)\n",
        "print(\"Largest element:\", max_value)"
      ],
      "metadata": {
        "id": "3FdLRBKOUQEd",
        "colab": {
          "base_uri": "https://localhost:8080/"
        },
        "outputId": "cc50b2c9-3d66-41ba-b162-9fc7c2d92167"
      },
      "execution_count": 13,
      "outputs": [
        {
          "output_type": "stream",
          "name": "stdout",
          "text": [
            "Smallest element: 3\n",
            "Largest element: 15\n"
          ]
        }
      ]
    },
    {
      "cell_type": "markdown",
      "source": [
        "(12) Write a Python program that counts the frequency of each character in a given string and stores it in a dictionary."
      ],
      "metadata": {
        "id": "O0TVi3gKUTpp"
      }
    },
    {
      "cell_type": "code",
      "source": [
        "# write your answer here\n",
        "# Get user input for a string\n",
        "user_input = input(\"Enter a string: \")\n",
        "\n",
        "# Initialize an empty dictionary to store character frequencies\n",
        "char_freq = {}\n",
        "\n",
        "# Count the frequency of each character\n",
        "for char in user_input:\n",
        "    char_freq[char] = char_freq.get(char, 0) + 1\n",
        "\n",
        "# Display the result\n",
        "print(\"Character frequencies:\", char_freq)\n"
      ],
      "metadata": {
        "id": "lAtfSfZXUU-h",
        "colab": {
          "base_uri": "https://localhost:8080/"
        },
        "outputId": "97fde80b-91c1-4098-8c88-50e76cd17989"
      },
      "execution_count": 14,
      "outputs": [
        {
          "output_type": "stream",
          "name": "stdout",
          "text": [
            "Enter a string: 6\n",
            "Character frequencies: {'6': 1}\n"
          ]
        }
      ]
    },
    {
      "cell_type": "markdown",
      "metadata": {
        "id": "0v48Vqa7FrQh"
      },
      "source": [
        "(13) Implement a Python script to identify duplicate elements in a provided array of integers. Return -1 if there are no duplicates."
      ]
    },
    {
      "cell_type": "code",
      "execution_count": 15,
      "metadata": {
        "id": "7WEmgq-DF2P1",
        "colab": {
          "base_uri": "https://localhost:8080/"
        },
        "outputId": "155ea1dd-1087-4453-a78b-f4e2b1695856"
      },
      "outputs": [
        {
          "name": "stdout",
          "output_type": "stream",
          "text": [
            "Enter integers separated by space: 8\n"
          ]
        },
        {
          "output_type": "execute_result",
          "data": {
            "text/plain": [
              "-1"
            ]
          },
          "metadata": {},
          "execution_count": 15
        }
      ],
      "source": [
        "# write your answer here\n",
        "result = next((item for i, item in enumerate(array) if item in set(array[:i] + array[i+1:])), -1) if (array := [int(x) for x in input(\"Enter integers separated by space: \").split()]) else -1\n",
        "result\n"
      ]
    },
    {
      "cell_type": "markdown",
      "metadata": {
        "id": "vD5PYLMuGga_"
      },
      "source": [
        "(14) Write a Python script to find the common elements between two lists."
      ]
    },
    {
      "cell_type": "code",
      "execution_count": 18,
      "metadata": {
        "id": "t0D5kdJUGjjw",
        "colab": {
          "base_uri": "https://localhost:8080/"
        },
        "outputId": "8aff797f-8d2b-464a-bf97-1a14c0962bd2"
      },
      "outputs": [
        {
          "output_type": "stream",
          "name": "stdout",
          "text": [
            "Enter elements for the first list separated by space: 7\n",
            "Enter elements for the second list separated by space: 4\n",
            "Common elements: []\n"
          ]
        }
      ],
      "source": [
        "# write your answer here\n",
        "common_elements = list(set(input(\"Enter elements for the first list separated by space: \").split()) & set(input(\"Enter elements for the second list separated by space: \").split()))\n",
        "print(\"Common elements:\", common_elements)"
      ]
    },
    {
      "cell_type": "markdown",
      "metadata": {
        "id": "uHkd-y5VhVWC"
      },
      "source": [
        "(15) Write a Python program to randomly divide the students in this class into six groups for term projects, each group should have at least 4 students but no more than 6 students (including 6).\n",
        "\n",
        "Here is the students list:\n",
        "\n",
        "student_list_spring_2024=[rb0846,\n",
        "ac1964,\n",
        "hc0612,\n",
        "md0912,\n",
        "ad1198,\n",
        "md0894,\n",
        "md0825,\n",
        "vg0598,\n",
        "vg0433,\n",
        "mh1068,\n",
        "yj0173,\n",
        "pk0553,\n",
        "tk0411,\n",
        "srk0204,\n",
        "sk2922,\n",
        "sk2936,\n",
        "mk1302,\n",
        "mk1317,\n",
        "tk0412,\n",
        "vk0656,\n",
        "sm2985,\n",
        "mm2372,\n",
        "un0045,\n",
        "an0892,\n",
        "sn0913,\n",
        "gp0252,\n",
        "ap1484,\n",
        "mr1765,\n",
        "sr1385,\n",
        "sr1335,\n",
        "hs0665,\n",
        "ms2060,\n",
        "gt0217,\n",
        "nt0385,\n",
        "tv0186,\n",
        "sv1394,\n",
        "sv1752,\n",
        "sv1555,\n",
        "sy0594\n",
        "]\n"
      ]
    },
    {
      "cell_type": "code",
      "execution_count": 19,
      "metadata": {
        "id": "3iGbmcOBhTwy",
        "colab": {
          "base_uri": "https://localhost:8080/"
        },
        "outputId": "a41fb807-f237-489d-da33-cf4936a157ea"
      },
      "outputs": [
        {
          "output_type": "stream",
          "name": "stdout",
          "text": [
            "Group 1: ['gp0252', 'tk0412', 'mm2372', 'sk2936', 'hs0665', 'nt0385']\n",
            "Group 2: ['sv1555', 'ac1964', 'tk0411', 'ms2060', 'yj0173', 'sn0913']\n",
            "Group 3: ['vg0433', 'sr1385', 'srk0204', 'md0912', 'sv1752', 'tv0186']\n",
            "Group 4: ['md0825', 'mh1068', 'un0045', 'md0894', 'vg0598', 'mk1302']\n",
            "Group 5: ['sk2922', 'rb0846', 'sv1394', 'ap1484', 'an0892', 'mk1317']\n",
            "Group 6: ['sm2985', 'gt0217', 'sy0594', 'sr1335', 'ad1198', 'hc0612']\n",
            "Group 7: ['mr1765', 'pk0553', 'vk0656']\n"
          ]
        }
      ],
      "source": [
        "# write your answer here\n",
        "import random\n",
        "\n",
        "# List of students\n",
        "student_list_spring_2024 = ['rb0846', 'ac1964', 'hc0612', 'md0912', 'ad1198', 'md0894', 'md0825', 'vg0598', 'vg0433',\n",
        "                             'mh1068', 'yj0173', 'pk0553', 'tk0411', 'srk0204', 'sk2922', 'sk2936', 'mk1302', 'mk1317',\n",
        "                             'tk0412', 'vk0656', 'sm2985', 'mm2372', 'un0045', 'an0892', 'sn0913', 'gp0252', 'ap1484',\n",
        "                             'mr1765', 'sr1385', 'sr1335', 'hs0665', 'ms2060', 'gt0217', 'nt0385', 'tv0186', 'sv1394',\n",
        "                             'sv1752', 'sv1555', 'sy0594']\n",
        "\n",
        "# Shuffle the list of students\n",
        "random.shuffle(student_list_spring_2024)\n",
        "\n",
        "# Calculate the number of students per group\n",
        "students_per_group = len(student_list_spring_2024) // 6\n",
        "\n",
        "# Divide students into groups\n",
        "groups = [student_list_spring_2024[i:i + students_per_group] for i in range(0, len(student_list_spring_2024), students_per_group)]\n",
        "\n",
        "# Display the result\n",
        "for i, group in enumerate(groups, 1):\n",
        "    print(f\"Group {i}: {group}\")"
      ]
    },
    {
      "cell_type": "markdown",
      "metadata": {
        "id": "fmZ9vX20Qs3d"
      },
      "source": [
        "(16) Create a program that takes a positive integer 'n' as input and prints the count of even numbers from 1 to 'n'. Optimize the loop using the break statement."
      ]
    },
    {
      "cell_type": "code",
      "execution_count": 20,
      "metadata": {
        "id": "W8Jw6sWMQs3d",
        "colab": {
          "base_uri": "https://localhost:8080/"
        },
        "outputId": "852ed8e0-27ba-4399-b933-c2895cfc57b7"
      },
      "outputs": [
        {
          "output_type": "stream",
          "name": "stdout",
          "text": [
            "Enter a positive integer: 5\n",
            "Count of even numbers from 1 to 5 is: 2\n"
          ]
        }
      ],
      "source": [
        "# write your answer here\n",
        "print(\"Count of even numbers from 1 to\", (n := int(input(\"Enter a positive integer: \"))), \"is:\", sum(1 for num in range(1, n + 1) if num % 2 == 0) if n > 0 else 0)"
      ]
    },
    {
      "cell_type": "markdown",
      "metadata": {
        "id": "hvq4APMhQs3d"
      },
      "source": [
        "(17) Develop a Python function called 'count_vowels' that takes a string as input and returns the count of vowels (both lowercase and uppercase) present in the string, ignoring spaces and non-alphabetic characters."
      ]
    },
    {
      "cell_type": "code",
      "execution_count": 21,
      "metadata": {
        "id": "ZnoxhSglQs3d",
        "colab": {
          "base_uri": "https://localhost:8080/"
        },
        "outputId": "cf28356a-ca3f-4aee-e406-037fd2715ebe"
      },
      "outputs": [
        {
          "output_type": "execute_result",
          "data": {
            "text/plain": [
              "4"
            ]
          },
          "metadata": {},
          "execution_count": 21
        }
      ],
      "source": [
        "# write your answer here\n",
        "count_vowels = lambda s: sum(1 for char in s.lower() if char in 'aeiou')\n",
        "count_vowels(\"i am testing\")"
      ]
    },
    {
      "cell_type": "markdown",
      "source": [
        "(18) Create a custom exception named ValueTooSmallError in Python. Write a program that takes user input for an age, and if the entered age is less than 18, raise the ValueTooSmallError with an appropriate error message."
      ],
      "metadata": {
        "id": "55FWoSJPVVM6"
      }
    },
    {
      "cell_type": "code",
      "source": [
        "# write your answer heretry:\n",
        "try:raise ValueError(\"Age is less than 18\") if (age := int(input(\"Enter your age: \"))) < 18 else None\n",
        "except ValueError as e: print(e)"
      ],
      "metadata": {
        "id": "hwtr1wZmVX5A",
        "colab": {
          "base_uri": "https://localhost:8080/"
        },
        "outputId": "206af3b9-256e-48f5-d795-b16779692829"
      },
      "execution_count": 24,
      "outputs": [
        {
          "output_type": "stream",
          "name": "stdout",
          "text": [
            "Enter your age: 17\n",
            "Age is less than 18\n"
          ]
        }
      ]
    },
    {
      "cell_type": "markdown",
      "source": [
        "(19) Develop a script that reverses a given string without using built-in reverse functions."
      ],
      "metadata": {
        "id": "Q9ecagcaVazW"
      }
    },
    {
      "cell_type": "code",
      "source": [
        "# write your answer here\n",
        "# Get user input for a string\n",
        "user_input = input(\"Enter a string: \")\n",
        "\n",
        "# Reverse the string without using built-in functions\n",
        "reversed_string = user_input[::-1]\n",
        "\n",
        "# Display the result\n",
        "print(\"Reversed string:\", reversed_string)\n"
      ],
      "metadata": {
        "id": "gycgckoAVZjR",
        "colab": {
          "base_uri": "https://localhost:8080/"
        },
        "outputId": "c6e88370-54f8-4232-a9c2-0aa80329cfdb"
      },
      "execution_count": 25,
      "outputs": [
        {
          "output_type": "stream",
          "name": "stdout",
          "text": [
            "Enter a string: 7\n",
            "Reversed string: 7\n"
          ]
        }
      ]
    },
    {
      "cell_type": "markdown",
      "source": [
        "(20) Implement a Python script to generate a random password of a specified length."
      ],
      "metadata": {
        "id": "ZFG6RibifMLu"
      }
    },
    {
      "cell_type": "code",
      "source": [
        "# write your answer here\n",
        "import random\n",
        "import string\n",
        "\n",
        "def generate_random_password(length):\n",
        "    characters = string.ascii_letters + string.digits + string.punctuation\n",
        "    password = ''.join(random.choice(characters) for _ in range(length))\n",
        "    return password\n",
        "\n",
        "# Get user input for the password length\n",
        "password_length = int(input(\"Enter the desired password length: \"))\n",
        "\n",
        "# Generate and display the random password\n",
        "random_password = generate_random_password(password_length)\n",
        "print(\"Random Password:\", random_password)"
      ],
      "metadata": {
        "id": "BFVrkEi9fNiD",
        "colab": {
          "base_uri": "https://localhost:8080/"
        },
        "outputId": "44871c9a-ceda-4716-be4e-5538ce69aeb2"
      },
      "execution_count": 33,
      "outputs": [
        {
          "output_type": "stream",
          "name": "stdout",
          "text": [
            "Enter the desired password length: 7\n",
            "Random Password: ;UF|k8h\n"
          ]
        }
      ]
    },
    {
      "cell_type": "markdown",
      "source": [
        "# Try these questions:"
      ],
      "metadata": {
        "id": "6SmvS7nSfbj8"
      }
    },
    {
      "cell_type": "markdown",
      "source": [
        "(21) Define a base class called 'Vehicle' with attributes make and model. Create a derived class Car that inherits from Vehicle and has an additional attribute 'num_doors'. Demonstrate an example of creating an instance of the 'Car' class and accessing its attributes."
      ],
      "metadata": {
        "id": "cboAr5pEWUf5"
      }
    },
    {
      "cell_type": "code",
      "source": [
        "# write your answer here\n",
        "class Vehicle:\n",
        "    def __init__(self, make, model):\n",
        "        self.make = make\n",
        "        self.model = model\n",
        "\n",
        "class Car(Vehicle):\n",
        "    def __init__(self, make, model, num_doors):\n",
        "        # Call the constructor of the base class (Vehicle)\n",
        "        super().__init__(make, model)\n",
        "        self.num_doors = num_doors\n",
        "\n",
        "# Creating an instance of the Car class\n",
        "my_car = Car(make=\"Audi\", model=\"Q7\", num_doors=4)\n",
        "\n",
        "# Accessing attributes of the Car instance\n",
        "print(\"Make:\", my_car.make)\n",
        "print(\"Model:\", my_car.model)\n",
        "print(\"Number of Doors:\", my_car.num_doors)"
      ],
      "metadata": {
        "id": "phs9gciMWWAW",
        "colab": {
          "base_uri": "https://localhost:8080/"
        },
        "outputId": "7aba28b4-7d40-414d-8571-7173cd5d2bda"
      },
      "execution_count": 31,
      "outputs": [
        {
          "output_type": "stream",
          "name": "stdout",
          "text": [
            "Make: Audi\n",
            "Model: Q7\n",
            "Number of Doors: 4\n"
          ]
        }
      ]
    },
    {
      "cell_type": "markdown",
      "source": [
        "(22) Create a class called 'Shape' with a method calculate_area(). Implement two derived classes 'Circle' and 'Rectangle' that inherit from Shape and override the calculate_area() method. Demonstrate polymorphism by creating instances of both derived classes and calling the calculate_area() method."
      ],
      "metadata": {
        "id": "J8HHefNtePwd"
      }
    },
    {
      "cell_type": "code",
      "source": [
        "# write your answer here\n",
        "import math\n",
        "\n",
        "class Shape:\n",
        "    def calculate_area(self):\n",
        "        pass  # This method will be overridden by the derived classes\n",
        "\n",
        "class Circle(Shape):\n",
        "    def __init__(self, radius):\n",
        "        self.radius = radius\n",
        "\n",
        "    def calculate_area(self):\n",
        "        return math.pi * self.radius**2\n",
        "\n",
        "class Rectangle(Shape):\n",
        "    def __init__(self, length, width):\n",
        "        self.length = length\n",
        "        self.width = width\n",
        "\n",
        "    def calculate_area(self):\n",
        "        return self.length * self.width\n",
        "\n",
        "# Create instances of the derived classes\n",
        "circle_instance = Circle(radius=5)\n",
        "rectangle_instance = Rectangle(length=4, width=6)\n",
        "\n",
        "# Demonstrate polymorphism by calling calculate_area() on both instances\n",
        "print(\"Area of the Circle:\", circle_instance.calculate_area())\n",
        "print(\"Area of the Rectangle:\", rectangle_instance.calculate_area())"
      ],
      "metadata": {
        "id": "btnMmUZDeRhS",
        "colab": {
          "base_uri": "https://localhost:8080/"
        },
        "outputId": "47c80eeb-cf83-4e2f-8b45-98b5f60647bc"
      },
      "execution_count": 32,
      "outputs": [
        {
          "output_type": "stream",
          "name": "stdout",
          "text": [
            "Area of the Circle: 78.53981633974483\n",
            "Area of the Rectangle: 24\n"
          ]
        }
      ]
    },
    {
      "cell_type": "markdown",
      "source": [
        "(23) Write a Python program that prompts the user to enter two numbers and perform a division operation. Handle exceptions for both zero division and invalid input (non-numeric input). Display appropriate error messages for each type of exception and ensure the program does not crash due to these errors."
      ],
      "metadata": {
        "id": "z0oqEAlTeMUS"
      }
    },
    {
      "cell_type": "code",
      "source": [
        "# write your answer here\n",
        "def perform_division():\n",
        "    try:\n",
        "        # Prompt user for input\n",
        "        numerator = float(input(\"Enter the numerator: \"))\n",
        "        denominator = float(input(\"Enter the denominator: \"))\n",
        "\n",
        "        # Perform division\n",
        "        result = numerator / denominator\n",
        "\n",
        "        # Display the result\n",
        "        print(\"Result of division:\", result)\n",
        "\n",
        "    except ValueError:\n",
        "        # Handle invalid input (non-numeric)\n",
        "        print(\"Error: Please enter valid numeric values.\")\n",
        "\n",
        "    except ZeroDivisionError:\n",
        "        # Handle division by zero\n",
        "        print(\"Error: Division by zero is not allowed.\")\n",
        "\n",
        "if __name__ == \"__main__\":\n",
        "    perform_division()"
      ],
      "metadata": {
        "id": "yjdc1zM1eMAs",
        "colab": {
          "base_uri": "https://localhost:8080/"
        },
        "outputId": "16570270-bca4-4701-e9e1-c48a1c84040a"
      },
      "execution_count": 44,
      "outputs": [
        {
          "output_type": "stream",
          "name": "stdout",
          "text": [
            "Enter the numerator: 9\n",
            "Enter the denominator: 0\n",
            "Error: Division by zero is not allowed.\n"
          ]
        }
      ]
    },
    {
      "cell_type": "markdown",
      "source": [
        "# Mandatory Question"
      ],
      "metadata": {
        "id": "sZOhks1dXWEe"
      }
    },
    {
      "cell_type": "markdown",
      "source": [
        "**Important:**\n",
        "Reflecting on the first three lectures and the exercises you've completed, please provide feedback on your learning experience. Share your thoughts on whether the material covered was clear, the exercises were helpful, and if you feel more confident in applying Python programming concepts. Additionally, mention any specific areas where you would like more clarification or topics you would like to explore further in future lectures. Your feedback is valuable in shaping the course for an effective learning journey."
      ],
      "metadata": {
        "id": "eqmHVEwaWhbV"
      }
    },
    {
      "cell_type": "markdown",
      "source": [
        "Write your response here."
      ],
      "metadata": {
        "id": "HlpXOT9wXQAd"
      }
    },
    {
      "cell_type": "code",
      "source": [
        "# Reflecting on the first three lectures and exercises\n",
        "def provide_feedback():\n",
        "    print(\"Learning Experience Feedback:\")\n",
        "    print(\"The material covered in the first three lectures was clear and well-structured.\")\n",
        "\n",
        "    # Get user input on exercise helpfulness\n",
        "    helpfulness_rating = input(\"On a scale of 1 to 5, how helpful were the exercises? \")\n",
        "\n",
        "    try:\n",
        "        helpfulness_rating = int(helpfulness_rating)\n",
        "        assert 1 <= helpfulness_rating <= 5\n",
        "        print(f\"The exercises were rated {helpfulness_rating} out of 5 for helpfulness.\")\n",
        "    except (ValueError, AssertionError):\n",
        "        print(\"Please enter a valid rating between 1 and 5.\")\n",
        "\n",
        "    # Get user input on confidence level\n",
        "    confidence_level = input(\"Do you feel more confident in applying Python concepts now? (yes/no) \").lower()\n",
        "\n",
        "    if confidence_level == \"yes\":\n",
        "        print(\"Great to hear that you feel more confident!\")\n",
        "    elif confidence_level == \"no\":\n",
        "        print(\"No worries! Continuous practice and exploration will build confidence over time.\")\n",
        "    else:\n",
        "        print(\"Please enter a valid response (yes/no).\")\n",
        "\n",
        "    # Get user input on areas for clarification\n",
        "    areas_for_clarification = input(\"Are there specific areas where you would like more clarification? \")\n",
        "\n",
        "    if areas_for_clarification:\n",
        "        print(f\"Areas for clarification: {areas_for_clarification}\")\n",
        "    else:\n",
        "        print(\"No specific areas mentioned for clarification.\")\n",
        "\n",
        "    # Get user input on topics for future exploration\n",
        "    topics_for_exploration = input(\"What topics would you like to explore further in future lectures? \")\n",
        "\n",
        "    if topics_for_exploration:\n",
        "        print(f\"Looking forward to exploring topics like: {topics_for_exploration}\")\n",
        "    else:\n",
        "        print(\"No specific topics mentioned for future exploration.\")\n",
        "\n",
        "    print(\"Thank you for sharing your feedback!\")\n",
        "\n",
        "# Call the function to provide feedback\n",
        "provide_feedback()"
      ],
      "metadata": {
        "colab": {
          "base_uri": "https://localhost:8080/"
        },
        "id": "Tbjgs9czOixc",
        "outputId": "cbe47afe-6439-42c6-b74d-8e24de6a4343"
      },
      "execution_count": 43,
      "outputs": [
        {
          "output_type": "stream",
          "name": "stdout",
          "text": [
            "Learning Experience Feedback:\n",
            "The material covered in the first three lectures was clear and well-structured.\n",
            "On a scale of 1 to 5, how helpful were the exercises? 5\n",
            "The exercises were rated 5 out of 5 for helpfulness.\n",
            "Do you feel more confident in applying Python concepts now? (yes/no) yes\n",
            "Great to hear that you feel more confident!\n",
            "Are there specific areas where you would like more clarification? strings\n",
            "Areas for clarification: strings\n",
            "What topics would you like to explore further in future lectures? Machine Learning\n",
            "Looking forward to exploring topics like: Machine Learning\n",
            "Thank you for sharing your feedback!\n"
          ]
        }
      ]
    },
    {
      "cell_type": "code",
      "source": [],
      "metadata": {
        "id": "BJIv535kPbx_"
      },
      "execution_count": null,
      "outputs": []
    }
  ],
  "metadata": {
    "colab": {
      "provenance": []
    },
    "kernelspec": {
      "display_name": "Python 3 (ipykernel)",
      "language": "python",
      "name": "python3"
    },
    "language_info": {
      "codemirror_mode": {
        "name": "ipython",
        "version": 3
      },
      "file_extension": ".py",
      "mimetype": "text/x-python",
      "name": "python",
      "nbconvert_exporter": "python",
      "pygments_lexer": "ipython3",
      "version": "3.9.12"
    }
  },
  "nbformat": 4,
  "nbformat_minor": 0
}
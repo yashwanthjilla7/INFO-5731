{
  "cells": [
    {
      "cell_type": "markdown",
      "metadata": {
        "id": "view-in-github",
        "colab_type": "text"
      },
      "source": [
        "<a href=\"https://colab.research.google.com/github/yashwanthjilla7/INFO-5731/blob/main/Yashwanth_Jilla_Assignment_01.ipynb\" target=\"_parent\"><img src=\"https://colab.research.google.com/assets/colab-badge.svg\" alt=\"Open In Colab\"/></a>"
      ]
    },
    {
      "cell_type": "markdown",
      "metadata": {
        "id": "Ryk8D1Q4Wsrp"
      },
      "source": [
        "# **INFO5731 Assignment One**"
      ]
    },
    {
      "cell_type": "markdown",
      "metadata": {
        "id": "qcP6re2g5A5r"
      },
      "source": [
        "This assignment includes range of programming tasks and data analysis exercises, aiming to enhance your Python skills and proficiency in string manipulation, numerical computations, and data science. Follow the instructions carefully and design well-structured Python programs to address each question.\n",
        "\n",
        "Late Submission will have a penalty of 10% reduction for each day after the deadline."
      ]
    },
    {
      "cell_type": "markdown",
      "metadata": {
        "id": "JkzR8cFAyGik"
      },
      "source": [
        "# Question 1 (10 points).\n",
        "\n",
        "The formula that describes the volume V of a hemisphere with radius r is the following:\n",
        "\n",
        "$ V=\\frac{2}{3}\\ast\\ \\pi\\ast\\ r^3 $\n",
        "\n",
        "Write a program to calculate the value of V when r is in the range of even numbers from 1-20. Output the result in the following format:\n",
        "\n",
        "\tr\tV\n",
        "\t2\t…\n",
        "\t4\t…\n",
        "\t6\t…\n",
        "\t.\n",
        "\t.\n",
        "\t.\n",
        "\t20\t…\n"
      ]
    },
    {
      "cell_type": "code",
      "execution_count": null,
      "metadata": {
        "id": "jDyTKYs-yGit",
        "colab": {
          "base_uri": "https://localhost:8080/"
        },
        "outputId": "c48d1f0b-a8af-4ee9-8daf-c175d03591ff"
      },
      "outputs": [
        {
          "output_type": "stream",
          "name": "stdout",
          "text": [
            "r\tV\n",
            "2 \t 16.755160819145562\n",
            "4 \t 134.0412865531645\n",
            "6 \t 452.38934211693015\n",
            "8 \t 1072.330292425316\n",
            "10 \t 2094.3951023931954\n",
            "12 \t 3619.114736935441\n",
            "14 \t 5747.0201609669275\n",
            "16 \t 8578.642339402528\n",
            "18 \t 12214.512237157114\n",
            "20 \t 16755.160819145563\n"
          ]
        }
      ],
      "source": [
        "# Your code here\n",
        "import math\n",
        "print(\"r\\tV\")\n",
        "for r in range(2,21,2):\n",
        "    V = (2/3)*math.pi*(r**3)\n",
        "    print(r,\"\\t\",V)"
      ]
    },
    {
      "cell_type": "markdown",
      "metadata": {
        "id": "90_NR8c5XGWc"
      },
      "source": [
        "# Question 2 (20 points)\n",
        "\n",
        "(a) Write a Python program to generate a sequence of 12 random numbers falling within the range of 50 to 150.\n",
        "\n",
        "(b) Arrange the generated numbers in ascending order. Display the sorted list.\n",
        "\n",
        "(c) Extend the program to arrange the numbers in descending order as well. Present the sorted list accordingly.\n",
        "\n",
        "(d) Compute and output the average of the entire group of generated numbers.\n",
        "\n",
        "(e) Enhance the program to calculate and display the average of the first 6 numbers from both the ascending and descending sorted lists."
      ]
    },
    {
      "cell_type": "code",
      "execution_count": null,
      "metadata": {
        "id": "5QX6bJjGWXY9",
        "colab": {
          "base_uri": "https://localhost:8080/"
        },
        "outputId": "097364f4-b722-4b3f-a14d-bdbe1f563824"
      },
      "outputs": [
        {
          "output_type": "stream",
          "name": "stdout",
          "text": [
            "12 random numbers falling within the range of 50 to 150\n",
            "[90, 143, 128, 148, 102, 126, 53, 79, 85, 66, 57, 84]\n",
            "Generated numbers in ascending order\n",
            "[53, 57, 66, 79, 84, 85, 90, 102, 126, 128, 143, 148]\n",
            "Generated numbers in descending order\n",
            "[148, 143, 128, 126, 102, 90, 85, 84, 79, 66, 57, 53]\n",
            "Average of the entire group of generated numbers\n",
            "96.75\n"
          ]
        }
      ],
      "source": [
        "# Write code for each of the sub parts with proper comments.\n",
        "import random\n",
        "\n",
        "# (a) Write a Python program to generate a sequence of 12 random numbers falling within the range of 50 to 150.\n",
        "print(\"12 random numbers falling within the range of 50 to 150\")\n",
        "random_numbers = []\n",
        "for i in range(12):\n",
        "    random_numbers.append(random.randint(50,150))\n",
        "print(random_numbers)\n",
        "\n",
        "# (b) Arrange the generated numbers in ascending order. Display the sorted list.\n",
        "print(\"Generated numbers in ascending order\")\n",
        "random_numbers.sort()\n",
        "print(random_numbers)\n",
        "\n",
        "# (c) Extend the program to arrange the numbers in descending order as well. Present the sorted list accordingly.\n",
        "print(\"Generated numbers in descending order\")\n",
        "random_numbers.sort(reverse=True)\n",
        "print(random_numbers)\n",
        "\n",
        "# (d) Compute and output the average of the entire group of generated numbers.\n",
        "print(\"Average of the entire group of generated numbers\")\n",
        "average = sum(random_numbers)/len(random_numbers)\n",
        "print(average)"
      ]
    },
    {
      "cell_type": "markdown",
      "metadata": {
        "id": "1F_PZdH9Sh49"
      },
      "source": [
        "# Question 3 (20 points).\n",
        "\n",
        "Create a Python program that encompasses various string manipulation task:\n",
        "\n",
        "(a) Prompt the user to input two sentences.\n",
        "\n",
        "(b) Transform each sentence into a list, where each element corresponds to a word in the sentence. For example, if the sentences are \"Hello, how are you doing today?\" and \"This is an example sentence for the program!\"\n",
        "\n",
        "The program should output:\n",
        "['Hello', ',', 'how', 'are', 'you', 'doing', 'today', '?', 'This', 'is', 'an', 'example', 'sentence', 'for', 'the', 'program', '!']\n",
        "\n",
        "(c) Compare the two sentences. Print out a list of words that occur in both sentences.\n",
        "\n",
        "(d) Remove any punctuation from the sentence and print the sanitized sentences. It should remove at least the following characters, but it can remove more: period(“.”), comma (“,”), semicolon (“;”), and colon (“:”).\n",
        "\n",
        "(e) Count the number of vowels in each of the sentences. Print out each vowel and the occurrences  in the each of the two sentences separately, such as:\n",
        "\n",
        "Sentence1: a:2, e:2, i:0, etc.\n",
        "Sentence2: a:1, e:2, i:2, etc.\n",
        "\n",
        "Design a well-structured Python program to execute these tasks efficiently."
      ]
    },
    {
      "cell_type": "code",
      "execution_count": null,
      "metadata": {
        "id": "Y0oOSlsOS0cq",
        "colab": {
          "base_uri": "https://localhost:8080/"
        },
        "outputId": "2c2bf23f-4a60-4037-cd2d-8eb85711a9ed"
      },
      "outputs": [
        {
          "output_type": "stream",
          "name": "stdout",
          "text": [
            "Enter first sentence: Hello How are you\n",
            "Enter second sentence: How was your day\n",
            "['Hello', 'How', 'are', 'you', 'How', 'was', 'your', 'day']\n",
            "Common words in the two sentences:  ['How']\n",
            "Sanitized sentence 1:  Hello How are you\n",
            "Sanitized sentence 2:  How was your day\n",
            "Vowel count in sentence 1:  {'a': 1, 'e': 2, 'i': 0, 'o': 3, 'u': 1}\n",
            "Vowel count in sentence 2:  {'a': 2, 'e': 0, 'i': 0, 'o': 2, 'u': 1}\n"
          ]
        }
      ],
      "source": [
        "# # Your code here\n",
        "# Question 3 (20 points).\n",
        "# prompt the user to input two sentences\n",
        "sentence1 = input(\"Enter first sentence: \")\n",
        "sentence2 = input(\"Enter second sentence: \")\n",
        "\n",
        "# transform each sentence into a list\n",
        "sentence1_list = sentence1.split()\n",
        "sentence2_list = sentence2.split()\n",
        "\n",
        "# print the list of words in the sentences\n",
        "print(sentence1_list + sentence2_list)\n",
        "\n",
        "# compare the two sentences\n",
        "common_words = []\n",
        "for word in sentence1_list:\n",
        "    if word in sentence2_list:\n",
        "        common_words.append(word)\n",
        "print(\"Common words in the two sentences: \", common_words)\n",
        "\n",
        "# remove any punctuation from the sentence\n",
        "punctuation = [\".\", \",\", \";\", \":\"]\n",
        "sentence1 = ''.join([char for char in sentence1 if char not in punctuation])\n",
        "sentence2 = ''.join([char for char in sentence2 if char not in punctuation])\n",
        "print(\"Sanitized sentence 1: \", sentence1)\n",
        "print(\"Sanitized sentence 2: \", sentence2)\n",
        "\n",
        "# count the number of vowels in each of the sentences\n",
        "vowels = \"aeiou\"\n",
        "vowel_count1 = {}\n",
        "vowel_count2 = {}\n",
        "for vowel in vowels:\n",
        "    count = sentence1.lower().count(vowel)\n",
        "    vowel_count1[vowel] = count\n",
        "print(\"Vowel count in sentence 1: \", vowel_count1)\n",
        "for vowel in vowels:\n",
        "    count = sentence2.lower().count(vowel)\n",
        "    vowel_count2[vowel] = count\n",
        "print(\"Vowel count in sentence 2: \", vowel_count2)\n"
      ]
    },
    {
      "cell_type": "markdown",
      "metadata": {
        "id": "OP4-5qxAtInv"
      },
      "source": [
        "# Question 4 (20 Points)"
      ]
    },
    {
      "cell_type": "markdown",
      "metadata": {
        "id": "uzN4_hDptK9U"
      },
      "source": [
        "Design and implement a simple command-line calculator program. The program should handle both integers and floating-point numbers.\n",
        "\n",
        "(a) Write program that takes a mathematical expression as input and evaluates it. The program should support addition, subtraction, multiplication, and division.\n",
        "\n",
        "(b) Extend the calculator to handle parentheses in mathematical expressions. Implement the necessary logic to evaluate expressions with nested parentheses.\n",
        "\n",
        "(c) Enhance your calculator to include additional mathematical operations such as exponentiation, square root, and modulus.\n",
        "\n",
        "(d) Implement error handling in the calculator program. Handle cases such as division by zero and invalid input expressions. Provide meaningful error messages.\n",
        "\n",
        "(e) Implement a command to exit the calculator."
      ]
    },
    {
      "cell_type": "code",
      "execution_count": null,
      "metadata": {
        "id": "8nQnVxjJuYtu",
        "colab": {
          "base_uri": "https://localhost:8080/"
        },
        "outputId": "29ccbd34-d968-4dee-952f-ac1717074caf"
      },
      "outputs": [
        {
          "output_type": "stream",
          "name": "stdout",
          "text": [
            "Enter mathematical expression: 7\n",
            "Result:  7\n",
            "Enter mathematical expression: y\n",
            "An error occurred\n"
          ]
        }
      ],
      "source": [
        "\n",
        "# Your code here\n",
        "import re\n",
        "\n",
        "def calculator():\n",
        "    while True:\n",
        "        expression = input(\"Enter mathematical expression: \")\n",
        "        if expression == \"exit\":\n",
        "            break\n",
        "        try:\n",
        "            print(\"Result: \", eval(expression))\n",
        "        except ZeroDivisionError:\n",
        "            print(\"Division by zero is not allowed\")\n",
        "        except SyntaxError:\n",
        "            print(\"Invalid input expression\")\n",
        "        except:\n",
        "            print(\"An error occurred\")\n",
        "\n",
        "calculator()"
      ]
    },
    {
      "cell_type": "markdown",
      "metadata": {
        "id": "z3tBE7E-Xn5X"
      },
      "source": [
        "# Question 5 (30 points).\n",
        "\n",
        "In the field of Data Science, data is often formatted as a comma-delimited (CSV) file, where each line in a file corresponds to a field's value. Refer to Chapter 9 (p. 106) for more information on comma-delimited files.\n",
        "\n",
        "To answer this question, you will need to download the file [Assignment1_denton_housing.csv](https://raw.githubusercontent.com/unt-iialab/info5731-spring2022/main/assignments/Assignment1_denton_housing.csv) included with this assignment. The file contains statistics about housing in the city of Denton from 2008 to 2014. Write a program to implement the following questions.\n",
        "\n",
        "(a) (5 pts) Calculate the difference in the number of Occupied Housing Units from year to year and print it. The difference must be calculated for the consecutive years such as 2008-2009, 2009-2010 etc. Finally, print the values in the ascending order.\n",
        "\n",
        "(b) (5 pts) For all the years, calculate the percentage of housing units which are vacant an occupied. Print the results in the following format:\n",
        "\n",
        "Year Vacant Housing Units Occupied Housing Units\n",
        "\n",
        "    2008  30%   70%                          \n",
        "\t2009 ----- -----\n",
        "\t2010 ----- -----\n",
        "    2011 ----- -----\n",
        "\t2012 ----- -----\n",
        "    2013 ----- -----\n",
        "\t2014 ----- -----\n",
        "  \n",
        "  \n",
        "\n",
        "(c) (10 pts) Calculate and print the valued and years in which the highest number of housing units were vacant and occupied. Print the results in the following format:  \n",
        "\n",
        "                              Year\tValue\n",
        "\tVacant Housing Units\t  -----   -----\n",
        "\tOccupied Housing Units\t-----   -----\n",
        "\n",
        "(d) (10 pts) Calculate the harmonic mean of the total housing units and print it out. You can find the information about harmonic mean here: https://ncalculators.com/statistics/harmonic-mean-calculator.htm"
      ]
    },
    {
      "cell_type": "code",
      "execution_count": null,
      "metadata": {
        "id": "lqGYuHBhcsRH",
        "colab": {
          "base_uri": "https://localhost:8080/"
        },
        "outputId": "7a6eff82-0b5d-442b-eb78-7ea345f7af01"
      },
      "outputs": [
        {
          "output_type": "stream",
          "name": "stdout",
          "text": [
            "Difference in the number of Occupied Housing Units from year to year\n",
            "    year  difference\n",
            "20  2008         NaN\n",
            "17  2009      -795.0\n",
            "14  2010      5091.0\n",
            "11  2011      -303.0\n",
            "8   2012      1404.0\n",
            "5   2013      1565.0\n",
            "2   2014      2622.0\n",
            "Percentage of housing units which are vacant an occupied\n",
            "2008 10.88 % 89.12 %\n",
            "2009 9.07 % 90.93 %\n",
            "2010 8.14 % 91.86 %\n",
            "2011 9.38 % 90.62 %\n",
            "2012 6.68 % 93.32 %\n",
            "2013 8.8 % 91.2 %\n",
            "2014 5.73 % 94.27 %\n",
            "Valued and years in which the highest number of housing units were vacant and occupied\n",
            "Vacant Housing Units     year  value\n",
            "19  2008   4483\n",
            "Occupied Housing Units    year  value\n",
            "2  2014  46295\n",
            "Harmonic mean of the total housing units:  44398.28543969185\n"
          ]
        }
      ],
      "source": [
        " # Your code here\n",
        "import pandas as pd\n",
        "\n",
        "# read the csv from url\n",
        "url = \"https://raw.githubusercontent.com/unt-iialab/info5731-spring2022/main/assignments/Assignment1_denton_housing.csv\"\n",
        "df = pd.read_csv(url)\n",
        "\n",
        "# (a) Calculate the difference in the number of Occupied Housing Units from year to year and print it. The difference must be calculated for the consecutive years such as 2008-2009, 2009-2010 etc. Finally, print the values in the ascending order.\n",
        "occupied_housing_units = df[df[\"title_field\"] == \"Occupied Housing Units\"].sort_values(by=\"year\")\n",
        "occupied_housing_units[\"difference\"] = occupied_housing_units[\"value\"].diff()\n",
        "print(\"Difference in the number of Occupied Housing Units from year to year\")\n",
        "print(occupied_housing_units[[\"year\", \"difference\"]])\n",
        "\n",
        "# (b) For all the years, calculate the percentage of housing units which are vacant an occupied. Print the results in the following format:\n",
        "# Year Vacant Housing Units Occupied Housing Units\n",
        "#     2008  30%   70%\n",
        "# \t2009 ----- -----\n",
        "# \t2010 ----- -----\n",
        "#     2011 ----- -----\n",
        "# \t2012 ----- -----\n",
        "#     2013 ----- -----\n",
        "# \t2014 ----- -----\n",
        "vacant_housing_units = df[df[\"title_field\"] == \"Vacant Housing Units\"].sort_values(by=\"year\")\n",
        "occupied_housing_units = df[df[\"title_field\"] == \"Occupied Housing Units\"].sort_values(by=\"year\")\n",
        "print(\"Percentage of housing units which are vacant an occupied\")\n",
        "for i in range(len(vacant_housing_units)):\n",
        "    year = vacant_housing_units.iloc[i][\"year\"]\n",
        "    vacant = vacant_housing_units.iloc[i][\"value\"]\n",
        "    occupied = occupied_housing_units.iloc[i][\"value\"]\n",
        "    total = vacant + occupied\n",
        "    print(year, round((vacant/total)*100, 2), \"%\", round((occupied/total)*100, 2), \"%\")\n",
        "\n",
        "# (c) Calculate and print the valued and years in which the highest number of housing units were vacant and occupied. Print the results in the following format:\n",
        "#                               Year\tValue\n",
        "# \tVacant Housing Units\t  -----   -----\n",
        "# \tOccupied Housing Units\t-----   -----\n",
        "print(\"Valued and years in which the highest number of housing units were vacant and occupied\")\n",
        "vacant_housing_units = df[df[\"title_field\"] == \"Vacant Housing Units\"]\n",
        "occupied_housing_units = df[df[\"title_field\"] == \"Occupied Housing Units\"]\n",
        "vacant_housing_units_max = vacant_housing_units[vacant_housing_units[\"value\"] == vacant_housing_units[\"value\"].max()]\n",
        "occupied_housing_units_max = occupied_housing_units[occupied_housing_units[\"value\"] == occupied_housing_units[\"value\"].max()]\n",
        "print(\"Vacant Housing Units\", vacant_housing_units_max[[\"year\", \"value\"]])\n",
        "print(\"Occupied Housing Units\", occupied_housing_units_max[[\"year\", \"value\"]])\n",
        "\n",
        "#  (d) Calculate the harmonic mean of the total housing units and print it out. You can find the information about harmonic mean here: https://ncalculators.com/statistics/harmonic-mean-calculator.htm\n",
        "total_housing_units = df[df[\"title_field\"] == \"Total Housing Units\"][\"value\"]\n",
        "harmonic_mean = len(total_housing_units)/sum(1/x for x in total_housing_units)\n",
        "print(\"Harmonic mean of the total housing units: \", harmonic_mean)"
      ]
    },
    {
      "cell_type": "markdown",
      "metadata": {
        "id": "q8BFCvWp32cf"
      },
      "source": [
        "# Mandatory Question\n",
        "\n",
        "Provide your thoughts on the assignment. What did you find challenging, and what aspects did you enjoy? Your opinion on the provided time to complete the assignment. Share any suggestions for improvement. Your feedback will be valuable for enhancing the learning experience."
      ]
    },
    {
      "cell_type": "markdown",
      "source": [
        "In this assignment, I found the question 4 was most challenging. I enjoyed the assignment as it helped me learn new things. The time provided to complete the assignment was sufficient. Thank you!"
      ],
      "metadata": {
        "id": "bM3si8clWIrV"
      }
    },
    {
      "cell_type": "markdown",
      "source": [],
      "metadata": {
        "id": "tKXE_55VNx62"
      }
    }
  ],
  "metadata": {
    "colab": {
      "provenance": [],
      "include_colab_link": true
    },
    "kernelspec": {
      "display_name": "Python 3 (ipykernel)",
      "language": "python",
      "name": "python3"
    },
    "language_info": {
      "codemirror_mode": {
        "name": "ipython",
        "version": 3
      },
      "file_extension": ".py",
      "mimetype": "text/x-python",
      "name": "python",
      "nbconvert_exporter": "python",
      "pygments_lexer": "ipython3",
      "version": "3.9.0"
    }
  },
  "nbformat": 4,
  "nbformat_minor": 0
}